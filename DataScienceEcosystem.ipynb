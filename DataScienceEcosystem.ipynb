{
 "cells": [
  {
   "cell_type": "markdown",
   "id": "87bbab56-bfff-4f60-a097-d65d51cfc084",
   "metadata": {},
   "source": [
    "# Data Science Tools and Ecosystem"
   ]
  },
  {
   "cell_type": "markdown",
   "id": "a905b33b-df55-4309-aa97-5894ea90326f",
   "metadata": {},
   "source": [
    "In this notebook, Data Science Tools and Ecosystem are summarized"
   ]
  },
  {
   "cell_type": "markdown",
   "id": "89ed82db-b325-4fe0-95a3-725290ec6a55",
   "metadata": {},
   "source": [
    "Some of the popular languages that Data Scientists use are:"
   ]
  },
  {
   "cell_type": "markdown",
   "id": "e45e589e-2837-4af4-b5dd-e36ab18ec22b",
   "metadata": {
    "tags": []
   },
   "source": [
    "**Data Science Languages**\n",
    "1. Python  \n",
    "2. SQL \n",
    "3. R \n",
    "\n"
   ]
  },
  {
   "cell_type": "markdown",
   "id": "f24ee9b1-b860-4009-b819-0429dc3a3785",
   "metadata": {},
   "source": [
    "Some of the commonly used libraries used by Data Scientists include:"
   ]
  },
  {
   "cell_type": "markdown",
   "id": "5bda6f22-3e9d-48de-b05f-576b58e97bb4",
   "metadata": {},
   "source": [
    "**Data Science Libraries**\n",
    "\n",
    "1. Pandas\n",
    "2. Matplotlib\n",
    "3. Numpy"
   ]
  },
  {
   "cell_type": "markdown",
   "id": "c91e47af-adce-4abd-8573-7ff29d23c935",
   "metadata": {},
   "source": [
    "|Data Science Tools|\n",
    "|------------------|\n",
    "|MySQL|\n",
    "|PostgreSQL|\n",
    "|MongoDB|"
   ]
  },
  {
   "cell_type": "markdown",
   "id": "b48ce8d5-a963-46c0-9fe7-5469d5a82c01",
   "metadata": {},
   "source": [
    "### Below are a few examples of evaluating arithmetic expressions in Python"
   ]
  },
  {
   "cell_type": "code",
   "execution_count": 8,
   "id": "1b8ba5bd-c5be-4bd5-bb0a-6bfdbd2d4a1d",
   "metadata": {},
   "outputs": [
    {
     "data": {
      "text/plain": [
       "17"
      ]
     },
     "execution_count": 8,
     "metadata": {},
     "output_type": "execute_result"
    }
   ],
   "source": [
    "#This a simple arithmetic expression to mutiply then add integers\n",
    "(3*4)+5"
   ]
  },
  {
   "cell_type": "code",
   "execution_count": 10,
   "id": "ea6cf097-9047-4c3e-a70c-f1c0966c97b4",
   "metadata": {},
   "outputs": [
    {
     "data": {
      "text/plain": [
       "3.3333333333333335"
      ]
     },
     "execution_count": 10,
     "metadata": {},
     "output_type": "execute_result"
    }
   ],
   "source": [
    "#This will convert 200 minutes to hours by diving by 60\n",
    "200/60"
   ]
  },
  {
   "cell_type": "markdown",
   "id": "bdd5cdb5-6e09-497c-9d49-9a102ffe4213",
   "metadata": {},
   "source": [
    "**Objectives:**"
   ]
  },
  {
   "cell_type": "markdown",
   "id": "e273ff44-26ac-42e8-ac7e-90817da3adf6",
   "metadata": {},
   "source": [
    "List other languages for Data Science\n",
    "\n",
    "-Java\n",
    "\n",
    "-Scala\n",
    "\n",
    "-C++"
   ]
  },
  {
   "cell_type": "markdown",
   "id": "64850585-4ad3-443f-84e3-32eade642738",
   "metadata": {},
   "source": [
    "## Author"
   ]
  },
  {
   "cell_type": "markdown",
   "id": "2ea65e73-c9c5-454f-ba47-9b06b0a14a4f",
   "metadata": {},
   "source": [
    "Chynna Louise M. Stephens"
   ]
  },
  {
   "cell_type": "code",
   "execution_count": null,
   "id": "b101b6cd-b063-458a-adf5-fa288dcd6052",
   "metadata": {},
   "outputs": [],
   "source": []
  }
 ],
 "metadata": {
  "kernelspec": {
   "display_name": "Python",
   "language": "python",
   "name": "conda-env-python-py"
  },
  "language_info": {
   "codemirror_mode": {
    "name": "ipython",
    "version": 3
   },
   "file_extension": ".py",
   "mimetype": "text/x-python",
   "name": "python",
   "nbconvert_exporter": "python",
   "pygments_lexer": "ipython3",
   "version": "3.7.12"
  }
 },
 "nbformat": 4,
 "nbformat_minor": 5
}
